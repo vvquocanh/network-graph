{
 "cells": [
  {
   "cell_type": "code",
   "execution_count": 2,
   "id": "cdf0b6df-c230-47b6-a176-e50efaae4e18",
   "metadata": {},
   "outputs": [],
   "source": [
    "import networkx as nx\n",
    "import torch"
   ]
  },
  {
   "cell_type": "code",
   "execution_count": null,
   "id": "b0a3f815-553e-4a41-9ceb-8efde87d3445",
   "metadata": {},
   "outputs": [],
   "source": [
    "def label_propagation(G, labeled_nodes, labels, max_iter=1000, tol=1e-6):\n",
    "    A = nx.adjacency_matrix(G)\n",
    "    n_nodes = A.shape[0]\n",
    "\n",
    "    D = np.array(A.sum(axis=1)).flatten()\n",
    "    D_inv = 1.0 / D\n",
    "    D_inv[np.isinf(D_inv)] = 0\n",
    "    \n",
    "    # Convert to PyTorch tensors\n",
    "    D_inv = torch.FloatTensor(D_inv)\n",
    "    A = torch.FloatTensor(A.todense())\n",
    "    \n",
    "    # Initialize label matrix Y\n",
    "    n_classes = max(labels.values()) + 1\n",
    "    Y = torch.zeros((n_nodes, n_classes))\n",
    "    \n",
    "    # Set known labels\n",
    "    for node, label in labels.items():\n",
    "        Y[node][label] = 1.0\n",
    "    \n",
    "    # Create mask for labeled nodes\n",
    "    labeled_mask = torch.zeros(n_nodes, dtype=torch.bool)\n",
    "    labeled_mask[list(labeled_nodes)] = True\n",
    "    \n",
    "    # Normalize adjacency matrix\n",
    "    P = D_inv.unsqueeze(1) * A\n",
    "    \n",
    "    # Initialize previous state\n",
    "    Y_prev = Y.clone()\n",
    "    \n",
    "    # Label Propagation\n",
    "    for i in range(max_iter):\n",
    "        # Propagate labels\n",
    "        Y = torch.mm(P, Y)\n",
    "        \n",
    "        # Clamp labeled nodes to their original values\n",
    "        Y[labeled_mask] = Y_prev[labeled_mask]\n",
    "        \n",
    "        # Check convergence\n",
    "        delta = torch.norm(Y - Y_prev)\n",
    "        if delta < tol:\n",
    "            break\n",
    "            \n",
    "        Y_prev = Y.clone()\n",
    "    \n",
    "    # Get predicted labels\n",
    "    predicted_labels = torch.argmax(Y, dim=1)\n",
    "    \n",
    "    # Convert to dictionary\n",
    "    return {node: predicted_labels[node].item() for node in G.nodes()}"
   ]
  }
 ],
 "metadata": {
  "kernelspec": {
   "display_name": "Python 3 (ipykernel)",
   "language": "python",
   "name": "python3"
  },
  "language_info": {
   "codemirror_mode": {
    "name": "ipython",
    "version": 3
   },
   "file_extension": ".py",
   "mimetype": "text/x-python",
   "name": "python",
   "nbconvert_exporter": "python",
   "pygments_lexer": "ipython3",
   "version": "3.12.7"
  }
 },
 "nbformat": 4,
 "nbformat_minor": 5
}
