{
 "cells": [
  {
   "cell_type": "code",
   "execution_count": 5,
   "id": "2e2ce3fb-07f6-4f64-a22a-af0f3f765681",
   "metadata": {},
   "outputs": [],
   "source": [
    "import networkx as nx\n",
    "import numpy as np\n",
    "import matplotlib.pyplot as plt\n",
    "import os"
   ]
  },
  {
   "cell_type": "code",
   "execution_count": null,
   "id": "3770a497-a2e1-4002-9f41-da3f86f2a992",
   "metadata": {},
   "outputs": [],
   "source": [
    "results = {attr: [] for attr in [\"student/faculty\", \"major\", \"degree\", \"dorm\", \"gender\"]}\n",
    "network_sizes = []\n",
    "\n",
    "# Read data\n",
    "data_path = \"../Data/fb100\"\n",
    "\n",
    "for file in os.listdir(data_path):\n",
    "    if file.startswith('.'):\n",
    "        continue\n",
    "        \n",
    "    G = nx.read_gml(f'{data_path}/{file}')  # Ensure the graph is simple\n",
    "    network_sizes.append(G.number_of_nodes())\n",
    "\n",
    "    # Compute assortativity for each attribute\n",
    "    results[\"student/faculty\"].append(nx.attribute_assortativity_coefficient(G, \"student_fac\"))\n",
    "    results[\"major\"].append(nx.attribute_assortativity_coefficient(G, \"major_index\"))\n",
    "    results[\"degree\"].append(nx.degree_assortativity_coefficient(G)) \n",
    "    results[\"dorm\"].append(nx.attribute_assortativity_coefficient(G, \"dorm\"))\n",
    "    results[\"gender\"].append(nx.attribute_assortativity_coefficient(G, \"gender\"))\n",
    "\n",
    "# Plotting Scatter Plots\n",
    "for attr, values in results.items():\n",
    "    plt.figure()\n",
    "    plt.scatter(network_sizes, values, alpha=0.7)\n",
    "    plt.xscale(\"log\")\n",
    "    plt.axhline(0, color=\"red\", linestyle=\"--\", label=\"No Assortativity\")\n",
    "    plt.title(f\"Assortativity vs Network Size for {attr}\")\n",
    "    plt.xlabel(\"Network Size (n)\")\n",
    "    plt.ylabel(\"Assortativity\")\n",
    "    plt.legend()\n",
    "    plt.show()\n",
    "\n",
    "# Plotting Histograms/Density Plots\n",
    "for attr, values in results.items():\n",
    "    plt.figure()\n",
    "    plt.hist([v for v in values if v is not None], bins=20, density=True, alpha=0.6, color=\"blue\", label=\"Assortativity\")\n",
    "    plt.axvline(0, color=\"red\", linestyle=\"--\", label=\"No Assortativity\")\n",
    "    plt.title(f\"Distribution of Assortativity for {attr}\")\n",
    "    plt.xlabel(\"Assortativity\")\n",
    "    plt.ylabel(\"Density\")\n",
    "    plt.legend()\n",
    "    plt.show()\n",
    "\n"
   ]
  },
  {
   "cell_type": "code",
   "execution_count": null,
   "id": "d3de8dfb-4455-4ed9-8a58-e45b6bc5f1b9",
   "metadata": {},
   "outputs": [],
   "source": []
  }
 ],
 "metadata": {
  "kernelspec": {
   "display_name": "Python 3 (ipykernel)",
   "language": "python",
   "name": "python3"
  },
  "language_info": {
   "codemirror_mode": {
    "name": "ipython",
    "version": 3
   },
   "file_extension": ".py",
   "mimetype": "text/x-python",
   "name": "python",
   "nbconvert_exporter": "python",
   "pygments_lexer": "ipython3",
   "version": "3.12.7"
  }
 },
 "nbformat": 4,
 "nbformat_minor": 5
}
