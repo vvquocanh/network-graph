{
 "cells": [
  {
   "cell_type": "code",
   "execution_count": 21,
   "metadata": {},
   "outputs": [],
   "source": [
    "import networkx as nx\n",
    "import collections"
   ]
  },
  {
   "cell_type": "code",
   "execution_count": 33,
   "metadata": {},
   "outputs": [],
   "source": [
    "def find_the_dominant_label(graph, communities, labels):\n",
    "    for community in communities:\n",
    "        \n",
    "        best_label = None\n",
    "        best_count = 0\n",
    "        \n",
    "        for label in labels:\n",
    "            all_labels = [graph.nodes[node][label] for node in community]\n",
    "            label_counter = collections.Counter(all_labels)\n",
    "    \n",
    "            dominant_label, count = label_counter.most_common(1)[0]\n",
    "            \n",
    "            if dominant_label == 0 and len(label_counter) > 1:\n",
    "                dominant_label, count = label_counter.most_common(2)[1]\n",
    "            \n",
    "            if count > best_count and dominant_label != 0:\n",
    "                best_label = label\n",
    "                best_count = count\n",
    "                \n",
    "        print(f\"Community size: {len(community)}, Dominant label: {best_label}, Count: {best_count}, Occupy: {best_count / len(community)}\")"
   ]
  },
  {
   "cell_type": "code",
   "execution_count": 36,
   "metadata": {},
   "outputs": [],
   "source": [
    "labels = ['student_fac', 'gender', 'major_index', 'second_major', 'dorm', 'year', 'high_school']"
   ]
  },
  {
   "cell_type": "code",
   "execution_count": 24,
   "metadata": {},
   "outputs": [],
   "source": [
    "data_path = \"../Data/fb100\"\n",
    "\n",
    "princeton = nx.read_gml(f\"{data_path}/Princeton12.gml\")\n",
    "havard = nx.read_gml(f\"{data_path}/Harvard1.gml\")\n",
    "indiana = nx.read_gml(f\"{data_path}/Indiana69.gml\")\n",
    "\n"
   ]
  },
  {
   "cell_type": "code",
   "execution_count": 37,
   "metadata": {},
   "outputs": [
    {
     "name": "stdout",
     "output_type": "stream",
     "text": [
      "Community size: 1835, Dominant label: major_index, Count: 158, Occupy: 0.08610354223433242\n",
      "Community size: 1121, Dominant label: dorm, Count: 145, Occupy: 0.12934879571810884\n",
      "Community size: 1066, Dominant label: dorm, Count: 112, Occupy: 0.1050656660412758\n",
      "Community size: 1046, Dominant label: major_index, Count: 133, Occupy: 0.12715105162523901\n",
      "Community size: 960, Dominant label: major_index, Count: 82, Occupy: 0.08541666666666667\n",
      "Community size: 286, Dominant label: dorm, Count: 39, Occupy: 0.13636363636363635\n",
      "Community size: 131, Dominant label: dorm, Count: 18, Occupy: 0.13740458015267176\n",
      "Community size: 98, Dominant label: major_index, Count: 11, Occupy: 0.11224489795918367\n",
      "Community size: 20, Dominant label: dorm, Count: 5, Occupy: 0.25\n",
      "Community size: 5, Dominant label: major_index, Count: 2, Occupy: 0.4\n",
      "Community size: 4, Dominant label: dorm, Count: 2, Occupy: 0.5\n",
      "Community size: 3, Dominant label: major_index, Count: 1, Occupy: 0.3333333333333333\n",
      "Community size: 3, Dominant label: major_index, Count: 1, Occupy: 0.3333333333333333\n",
      "Community size: 3, Dominant label: None, Count: 0, Occupy: 0.0\n",
      "Community size: 3, Dominant label: major_index, Count: 1, Occupy: 0.3333333333333333\n",
      "Community size: 2, Dominant label: major_index, Count: 2, Occupy: 1.0\n",
      "Community size: 2, Dominant label: None, Count: 0, Occupy: 0.0\n",
      "Community size: 2, Dominant label: major_index, Count: 1, Occupy: 0.5\n",
      "Community size: 2, Dominant label: None, Count: 0, Occupy: 0.0\n",
      "Community size: 2, Dominant label: major_index, Count: 2, Occupy: 1.0\n",
      "Community size: 2, Dominant label: high_school, Count: 1, Occupy: 0.5\n"
     ]
    }
   ],
   "source": [
    "princeton_lovain = sorted(nx.community.louvain_communities(princeton, seed=123), key=lambda x: len(x), reverse=True)\n",
    "find_the_dominant_label(princeton, princeton_lovain, labels)"
   ]
  },
  {
   "cell_type": "code",
   "execution_count": 30,
   "metadata": {},
   "outputs": [
    {
     "name": "stdout",
     "output_type": "stream",
     "text": [
      "Community size: 4800, Dominant label: gender, Count: 2197, Occupy: 0.45770833333333333\n",
      "Community size: 2722, Dominant label: gender, Count: 1193, Occupy: 0.43828067597354886\n",
      "Community size: 1858, Dominant label: year, Count: 1552, Occupy: 0.8353067814854682\n",
      "Community size: 1761, Dominant label: year, Count: 1408, Occupy: 0.7995457126632595\n",
      "Community size: 1669, Dominant label: year, Count: 1459, Occupy: 0.8741761533852607\n",
      "Community size: 1258, Dominant label: gender, Count: 673, Occupy: 0.5349761526232114\n",
      "Community size: 978, Dominant label: gender, Count: 442, Occupy: 0.45194274028629855\n",
      "Community size: 10, Dominant label: None, Count: 0, Occupy: 0.0\n",
      "Community size: 6, Dominant label: gender, Count: 5, Occupy: 0.8333333333333334\n",
      "Community size: 4, Dominant label: gender, Count: 3, Occupy: 0.75\n",
      "Community size: 4, Dominant label: None, Count: 0, Occupy: 0.0\n",
      "Community size: 4, Dominant label: gender, Count: 4, Occupy: 1.0\n",
      "Community size: 3, Dominant label: gender, Count: 3, Occupy: 1.0\n",
      "Community size: 3, Dominant label: gender, Count: 2, Occupy: 0.6666666666666666\n",
      "Community size: 3, Dominant label: None, Count: 0, Occupy: 0.0\n",
      "Community size: 3, Dominant label: gender, Count: 3, Occupy: 1.0\n",
      "Community size: 3, Dominant label: gender, Count: 2, Occupy: 0.6666666666666666\n",
      "Community size: 3, Dominant label: gender, Count: 2, Occupy: 0.6666666666666666\n",
      "Community size: 2, Dominant label: None, Count: 0, Occupy: 0.0\n",
      "Community size: 2, Dominant label: None, Count: 0, Occupy: 0.0\n",
      "Community size: 2, Dominant label: None, Count: 0, Occupy: 0.0\n",
      "Community size: 2, Dominant label: gender, Count: 2, Occupy: 1.0\n",
      "Community size: 2, Dominant label: gender, Count: 2, Occupy: 1.0\n",
      "Community size: 2, Dominant label: gender, Count: 2, Occupy: 1.0\n",
      "Community size: 2, Dominant label: major_index, Count: 2, Occupy: 1.0\n",
      "Community size: 2, Dominant label: None, Count: 0, Occupy: 0.0\n",
      "Community size: 2, Dominant label: gender, Count: 2, Occupy: 1.0\n",
      "Community size: 2, Dominant label: gender, Count: 1, Occupy: 0.5\n",
      "Community size: 2, Dominant label: gender, Count: 2, Occupy: 1.0\n",
      "Community size: 2, Dominant label: gender, Count: 2, Occupy: 1.0\n",
      "Community size: 2, Dominant label: year, Count: 2, Occupy: 1.0\n",
      "Community size: 2, Dominant label: gender, Count: 2, Occupy: 1.0\n",
      "Community size: 2, Dominant label: gender, Count: 1, Occupy: 0.5\n",
      "Community size: 2, Dominant label: gender, Count: 1, Occupy: 0.5\n",
      "Community size: 2, Dominant label: None, Count: 0, Occupy: 0.0\n"
     ]
    }
   ],
   "source": [
    "havard_lovain = sorted(nx.community.louvain_communities(havard, seed=123), key=lambda x: len(x), reverse=True)\n",
    "find_the_dominant_label(havard, havard_lovain, labels)"
   ]
  },
  {
   "cell_type": "code",
   "execution_count": 31,
   "metadata": {},
   "outputs": [
    {
     "name": "stdout",
     "output_type": "stream",
     "text": [
      "Community size: 8404, Dominant label: gender, Count: 4039, Occupy: 0.4806044740599714\n",
      "Community size: 4928, Dominant label: year, Count: 4293, Occupy: 0.8711444805194806\n",
      "Community size: 4278, Dominant label: gender, Count: 1963, Occupy: 0.4588592800374007\n",
      "Community size: 4224, Dominant label: gender, Count: 2009, Occupy: 0.4756155303030303\n",
      "Community size: 1748, Dominant label: gender, Count: 923, Occupy: 0.5280320366132724\n",
      "Community size: 1471, Dominant label: gender, Count: 893, Occupy: 0.6070700203942896\n",
      "Community size: 1221, Dominant label: gender, Count: 566, Occupy: 0.46355446355446356\n",
      "Community size: 680, Dominant label: gender, Count: 454, Occupy: 0.6676470588235294\n",
      "Community size: 639, Dominant label: gender, Count: 313, Occupy: 0.48982785602503914\n",
      "Community size: 545, Dominant label: gender, Count: 307, Occupy: 0.563302752293578\n",
      "Community size: 371, Dominant label: gender, Count: 260, Occupy: 0.7008086253369272\n",
      "Community size: 346, Dominant label: gender, Count: 208, Occupy: 0.6011560693641619\n",
      "Community size: 329, Dominant label: gender, Count: 194, Occupy: 0.5896656534954408\n",
      "Community size: 306, Dominant label: gender, Count: 198, Occupy: 0.6470588235294118\n",
      "Community size: 242, Dominant label: major_index, Count: 162, Occupy: 0.6694214876033058\n",
      "Community size: 3, Dominant label: None, Count: 0, Occupy: 0.0\n",
      "Community size: 2, Dominant label: gender, Count: 1, Occupy: 0.5\n",
      "Community size: 2, Dominant label: gender, Count: 1, Occupy: 0.5\n",
      "Community size: 2, Dominant label: None, Count: 0, Occupy: 0.0\n",
      "Community size: 2, Dominant label: gender, Count: 2, Occupy: 1.0\n",
      "Community size: 2, Dominant label: gender, Count: 1, Occupy: 0.5\n",
      "Community size: 2, Dominant label: gender, Count: 1, Occupy: 0.5\n"
     ]
    }
   ],
   "source": [
    "indiana_lovain = sorted(nx.community.louvain_communities(indiana, seed=123), key=lambda x: len(x), reverse=True)\n",
    "find_the_dominant_label(indiana, indiana_lovain, labels)"
   ]
  }
 ],
 "metadata": {
  "kernelspec": {
   "display_name": ".venv",
   "language": "python",
   "name": "python3"
  },
  "language_info": {
   "codemirror_mode": {
    "name": "ipython",
    "version": 3
   },
   "file_extension": ".py",
   "mimetype": "text/x-python",
   "name": "python",
   "nbconvert_exporter": "python",
   "pygments_lexer": "ipython3",
   "version": "3.12.7"
  }
 },
 "nbformat": 4,
 "nbformat_minor": 2
}
