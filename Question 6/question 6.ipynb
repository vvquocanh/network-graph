{
 "cells": [
  {
   "cell_type": "code",
   "execution_count": 21,
   "metadata": {},
   "outputs": [],
   "source": [
    "import networkx as nx\n",
    "import collections"
   ]
  },
  {
   "cell_type": "code",
   "execution_count": 33,
   "metadata": {},
   "outputs": [],
   "source": [
    "def find_the_dominant_label(graph, communities, labels):\n",
    "    for community in communities:\n",
    "        \n",
    "        best_label = None\n",
    "        best_count = 0\n",
    "        \n",
    "        for label in labels:\n",
    "            all_labels = [graph.nodes[node][label] for node in community]\n",
    "            label_counter = collections.Counter(all_labels)\n",
    "    \n",
    "            dominant_label, count = label_counter.most_common(1)[0]\n",
    "            \n",
    "            if dominant_label == 0 and len(label_counter) > 1:\n",
    "                dominant_label, count = label_counter.most_common(2)[1]\n",
    "            \n",
    "            if count > best_count and dominant_label != 0:\n",
    "                best_label = label\n",
    "                best_count = count\n",
    "                \n",
    "        print(f\"Community size: {len(community)}, Dominant label: {best_label}, Count: {best_count}, Occupy: {best_count / len(community)}\")"
   ]
  },
  {
   "cell_type": "code",
   "execution_count": 41,
   "metadata": {},
   "outputs": [],
   "source": [
    "labels = ['student_fac', 'gender', 'major_index', 'second_major', 'dorm', 'year', 'high_school']"
   ]
  },
  {
   "cell_type": "code",
   "execution_count": 24,
   "metadata": {},
   "outputs": [],
   "source": [
    "data_path = \"../Data/fb100\"\n",
    "\n",
    "princeton = nx.read_gml(f\"{data_path}/Princeton12.gml\")\n",
    "havard = nx.read_gml(f\"{data_path}/Harvard1.gml\")\n",
    "indiana = nx.read_gml(f\"{data_path}/Indiana69.gml\")\n",
    "\n"
   ]
  },
  {
   "cell_type": "code",
   "execution_count": 42,
   "metadata": {},
   "outputs": [
    {
     "name": "stdout",
     "output_type": "stream",
     "text": [
      "Community size: 1835, Dominant label: student_fac, Count: 1017, Occupy: 0.5542234332425068\n",
      "Community size: 1121, Dominant label: student_fac, Count: 1090, Occupy: 0.9723461195361285\n",
      "Community size: 1066, Dominant label: student_fac, Count: 1054, Occupy: 0.9887429643527205\n",
      "Community size: 1046, Dominant label: student_fac, Count: 543, Occupy: 0.5191204588910134\n",
      "Community size: 960, Dominant label: student_fac, Count: 938, Occupy: 0.9770833333333333\n",
      "Community size: 286, Dominant label: gender, Count: 151, Occupy: 0.527972027972028\n",
      "Community size: 131, Dominant label: student_fac, Count: 108, Occupy: 0.8244274809160306\n",
      "Community size: 98, Dominant label: student_fac, Count: 75, Occupy: 0.7653061224489796\n",
      "Community size: 20, Dominant label: student_fac, Count: 19, Occupy: 0.95\n",
      "Community size: 5, Dominant label: student_fac, Count: 5, Occupy: 1.0\n",
      "Community size: 4, Dominant label: student_fac, Count: 4, Occupy: 1.0\n",
      "Community size: 3, Dominant label: student_fac, Count: 3, Occupy: 1.0\n",
      "Community size: 3, Dominant label: student_fac, Count: 3, Occupy: 1.0\n",
      "Community size: 3, Dominant label: student_fac, Count: 3, Occupy: 1.0\n",
      "Community size: 3, Dominant label: student_fac, Count: 3, Occupy: 1.0\n",
      "Community size: 2, Dominant label: student_fac, Count: 2, Occupy: 1.0\n",
      "Community size: 2, Dominant label: student_fac, Count: 1, Occupy: 0.5\n",
      "Community size: 2, Dominant label: student_fac, Count: 2, Occupy: 1.0\n",
      "Community size: 2, Dominant label: student_fac, Count: 2, Occupy: 1.0\n",
      "Community size: 2, Dominant label: student_fac, Count: 2, Occupy: 1.0\n",
      "Community size: 2, Dominant label: student_fac, Count: 2, Occupy: 1.0\n"
     ]
    }
   ],
   "source": [
    "princeton_lovain = sorted(nx.community.louvain_communities(princeton, seed=123), key=lambda x: len(x), reverse=True)\n",
    "find_the_dominant_label(princeton, princeton_lovain, labels)"
   ]
  },
  {
   "cell_type": "code",
   "execution_count": 43,
   "metadata": {},
   "outputs": [
    {
     "name": "stdout",
     "output_type": "stream",
     "text": [
      "Community size: 4800, Dominant label: student_fac, Count: 4185, Occupy: 0.871875\n",
      "Community size: 2722, Dominant label: student_fac, Count: 1523, Occupy: 0.5595150624540779\n",
      "Community size: 1858, Dominant label: student_fac, Count: 1727, Occupy: 0.9294940796555436\n",
      "Community size: 1761, Dominant label: student_fac, Count: 1625, Occupy: 0.922771152754117\n",
      "Community size: 1669, Dominant label: student_fac, Count: 1631, Occupy: 0.9772318753744758\n",
      "Community size: 1258, Dominant label: gender, Count: 673, Occupy: 0.5349761526232114\n",
      "Community size: 978, Dominant label: student_fac, Count: 546, Occupy: 0.558282208588957\n",
      "Community size: 10, Dominant label: student_fac, Count: 7, Occupy: 0.7\n",
      "Community size: 6, Dominant label: student_fac, Count: 5, Occupy: 0.8333333333333334\n",
      "Community size: 4, Dominant label: student_fac, Count: 4, Occupy: 1.0\n",
      "Community size: 4, Dominant label: student_fac, Count: 4, Occupy: 1.0\n",
      "Community size: 4, Dominant label: gender, Count: 4, Occupy: 1.0\n",
      "Community size: 3, Dominant label: student_fac, Count: 3, Occupy: 1.0\n",
      "Community size: 3, Dominant label: gender, Count: 2, Occupy: 0.6666666666666666\n",
      "Community size: 3, Dominant label: student_fac, Count: 3, Occupy: 1.0\n",
      "Community size: 3, Dominant label: student_fac, Count: 3, Occupy: 1.0\n",
      "Community size: 3, Dominant label: student_fac, Count: 3, Occupy: 1.0\n",
      "Community size: 3, Dominant label: student_fac, Count: 3, Occupy: 1.0\n",
      "Community size: 2, Dominant label: student_fac, Count: 2, Occupy: 1.0\n",
      "Community size: 2, Dominant label: student_fac, Count: 2, Occupy: 1.0\n",
      "Community size: 2, Dominant label: student_fac, Count: 2, Occupy: 1.0\n",
      "Community size: 2, Dominant label: gender, Count: 2, Occupy: 1.0\n",
      "Community size: 2, Dominant label: student_fac, Count: 2, Occupy: 1.0\n",
      "Community size: 2, Dominant label: student_fac, Count: 2, Occupy: 1.0\n",
      "Community size: 2, Dominant label: major_index, Count: 2, Occupy: 1.0\n",
      "Community size: 2, Dominant label: student_fac, Count: 1, Occupy: 0.5\n",
      "Community size: 2, Dominant label: student_fac, Count: 2, Occupy: 1.0\n",
      "Community size: 2, Dominant label: student_fac, Count: 1, Occupy: 0.5\n",
      "Community size: 2, Dominant label: student_fac, Count: 2, Occupy: 1.0\n",
      "Community size: 2, Dominant label: student_fac, Count: 2, Occupy: 1.0\n",
      "Community size: 2, Dominant label: student_fac, Count: 2, Occupy: 1.0\n",
      "Community size: 2, Dominant label: student_fac, Count: 2, Occupy: 1.0\n",
      "Community size: 2, Dominant label: student_fac, Count: 2, Occupy: 1.0\n",
      "Community size: 2, Dominant label: student_fac, Count: 2, Occupy: 1.0\n",
      "Community size: 2, Dominant label: student_fac, Count: 2, Occupy: 1.0\n"
     ]
    }
   ],
   "source": [
    "havard_lovain = sorted(nx.community.louvain_communities(havard, seed=123), key=lambda x: len(x), reverse=True)\n",
    "find_the_dominant_label(havard, havard_lovain, labels)"
   ]
  },
  {
   "cell_type": "code",
   "execution_count": 44,
   "metadata": {},
   "outputs": [
    {
     "name": "stdout",
     "output_type": "stream",
     "text": [
      "Community size: 8404, Dominant label: student_fac, Count: 6680, Occupy: 0.794859590671109\n",
      "Community size: 4928, Dominant label: student_fac, Count: 4909, Occupy: 0.9961444805194806\n",
      "Community size: 4278, Dominant label: student_fac, Count: 2778, Occupy: 0.6493688639551192\n",
      "Community size: 4224, Dominant label: student_fac, Count: 3784, Occupy: 0.8958333333333334\n",
      "Community size: 1748, Dominant label: student_fac, Count: 1448, Occupy: 0.8283752860411899\n",
      "Community size: 1471, Dominant label: student_fac, Count: 1303, Occupy: 0.8857919782460911\n",
      "Community size: 1221, Dominant label: student_fac, Count: 1024, Occupy: 0.8386568386568387\n",
      "Community size: 680, Dominant label: student_fac, Count: 547, Occupy: 0.8044117647058824\n",
      "Community size: 639, Dominant label: student_fac, Count: 514, Occupy: 0.8043818466353677\n",
      "Community size: 545, Dominant label: student_fac, Count: 443, Occupy: 0.8128440366972477\n",
      "Community size: 371, Dominant label: gender, Count: 260, Occupy: 0.7008086253369272\n",
      "Community size: 346, Dominant label: student_fac, Count: 254, Occupy: 0.7341040462427746\n",
      "Community size: 329, Dominant label: student_fac, Count: 274, Occupy: 0.8328267477203647\n",
      "Community size: 306, Dominant label: student_fac, Count: 263, Occupy: 0.8594771241830066\n",
      "Community size: 242, Dominant label: major_index, Count: 162, Occupy: 0.6694214876033058\n",
      "Community size: 3, Dominant label: student_fac, Count: 1, Occupy: 0.3333333333333333\n",
      "Community size: 2, Dominant label: student_fac, Count: 1, Occupy: 0.5\n",
      "Community size: 2, Dominant label: student_fac, Count: 2, Occupy: 1.0\n",
      "Community size: 2, Dominant label: student_fac, Count: 2, Occupy: 1.0\n",
      "Community size: 2, Dominant label: student_fac, Count: 2, Occupy: 1.0\n",
      "Community size: 2, Dominant label: student_fac, Count: 2, Occupy: 1.0\n",
      "Community size: 2, Dominant label: student_fac, Count: 1, Occupy: 0.5\n"
     ]
    }
   ],
   "source": [
    "indiana_lovain = sorted(nx.community.louvain_communities(indiana, seed=123), key=lambda x: len(x), reverse=True)\n",
    "find_the_dominant_label(indiana, indiana_lovain, labels)"
   ]
  },
  {
   "cell_type": "code",
   "execution_count": null,
   "metadata": {},
   "outputs": [
    {
     "name": "stdout",
     "output_type": "stream",
     "text": [
      "Community size: 4435, Dominant label: student_fac, Count: 2476, Occupy: 0.5582863585118376\n",
      "Community size: 1053, Dominant label: student_fac, Count: 1035, Occupy: 0.9829059829059829\n",
      "Community size: 1044, Dominant label: student_fac, Count: 1037, Occupy: 0.9932950191570882\n",
      "Community size: 13, Dominant label: student_fac, Count: 13, Occupy: 1.0\n",
      "Community size: 4, Dominant label: student_fac, Count: 4, Occupy: 1.0\n",
      "Community size: 4, Dominant label: student_fac, Count: 4, Occupy: 1.0\n",
      "Community size: 4, Dominant label: student_fac, Count: 4, Occupy: 1.0\n",
      "Community size: 3, Dominant label: student_fac, Count: 3, Occupy: 1.0\n",
      "Community size: 3, Dominant label: student_fac, Count: 3, Occupy: 1.0\n",
      "Community size: 3, Dominant label: student_fac, Count: 2, Occupy: 0.6666666666666666\n",
      "Community size: 3, Dominant label: student_fac, Count: 3, Occupy: 1.0\n",
      "Community size: 3, Dominant label: student_fac, Count: 3, Occupy: 1.0\n",
      "Community size: 3, Dominant label: student_fac, Count: 3, Occupy: 1.0\n",
      "Community size: 3, Dominant label: student_fac, Count: 3, Occupy: 1.0\n",
      "Community size: 2, Dominant label: student_fac, Count: 2, Occupy: 1.0\n",
      "Community size: 2, Dominant label: student_fac, Count: 2, Occupy: 1.0\n",
      "Community size: 2, Dominant label: student_fac, Count: 2, Occupy: 1.0\n",
      "Community size: 2, Dominant label: student_fac, Count: 1, Occupy: 0.5\n",
      "Community size: 2, Dominant label: student_fac, Count: 2, Occupy: 1.0\n",
      "Community size: 2, Dominant label: student_fac, Count: 2, Occupy: 1.0\n",
      "Community size: 2, Dominant label: student_fac, Count: 2, Occupy: 1.0\n",
      "Community size: 2, Dominant label: student_fac, Count: 2, Occupy: 1.0\n",
      "Community size: 2, Dominant label: student_fac, Count: 2, Occupy: 1.0\n"
     ]
    }
   ],
   "source": [
    "princeton_asyn_lpa = sorted(nx.community.asyn_lpa_communities(princeton, seed=123), key=lambda x: len(x), reverse=True)\n",
    "find_the_dominant_label(princeton, princeton_asyn_lpa, labels)"
   ]
  },
  {
   "cell_type": "code",
   "execution_count": 50,
   "metadata": {},
   "outputs": [
    {
     "name": "stdout",
     "output_type": "stream",
     "text": [
      "Community size: 11693, Dominant label: student_fac, Count: 5899, Occupy: 0.5044898657316343\n",
      "Community size: 1620, Dominant label: student_fac, Count: 1562, Occupy: 0.9641975308641976\n",
      "Community size: 1484, Dominant label: student_fac, Count: 1465, Occupy: 0.9871967654986523\n",
      "Community size: 76, Dominant label: student_fac, Count: 75, Occupy: 0.9868421052631579\n",
      "Community size: 64, Dominant label: student_fac, Count: 39, Occupy: 0.609375\n",
      "Community size: 10, Dominant label: student_fac, Count: 7, Occupy: 0.7\n",
      "Community size: 7, Dominant label: student_fac, Count: 7, Occupy: 1.0\n",
      "Community size: 7, Dominant label: student_fac, Count: 7, Occupy: 1.0\n",
      "Community size: 6, Dominant label: student_fac, Count: 5, Occupy: 0.8333333333333334\n",
      "Community size: 5, Dominant label: student_fac, Count: 5, Occupy: 1.0\n",
      "Community size: 4, Dominant label: gender, Count: 4, Occupy: 1.0\n",
      "Community size: 4, Dominant label: gender, Count: 4, Occupy: 1.0\n",
      "Community size: 4, Dominant label: student_fac, Count: 4, Occupy: 1.0\n",
      "Community size: 4, Dominant label: student_fac, Count: 4, Occupy: 1.0\n",
      "Community size: 4, Dominant label: student_fac, Count: 4, Occupy: 1.0\n",
      "Community size: 3, Dominant label: gender, Count: 3, Occupy: 1.0\n",
      "Community size: 3, Dominant label: student_fac, Count: 3, Occupy: 1.0\n",
      "Community size: 3, Dominant label: gender, Count: 3, Occupy: 1.0\n",
      "Community size: 3, Dominant label: student_fac, Count: 3, Occupy: 1.0\n",
      "Community size: 3, Dominant label: gender, Count: 3, Occupy: 1.0\n",
      "Community size: 3, Dominant label: student_fac, Count: 3, Occupy: 1.0\n",
      "Community size: 3, Dominant label: student_fac, Count: 3, Occupy: 1.0\n",
      "Community size: 3, Dominant label: gender, Count: 2, Occupy: 0.6666666666666666\n",
      "Community size: 3, Dominant label: student_fac, Count: 3, Occupy: 1.0\n",
      "Community size: 3, Dominant label: student_fac, Count: 3, Occupy: 1.0\n",
      "Community size: 3, Dominant label: student_fac, Count: 3, Occupy: 1.0\n",
      "Community size: 3, Dominant label: major_index, Count: 3, Occupy: 1.0\n",
      "Community size: 3, Dominant label: student_fac, Count: 3, Occupy: 1.0\n",
      "Community size: 3, Dominant label: student_fac, Count: 3, Occupy: 1.0\n",
      "Community size: 2, Dominant label: student_fac, Count: 2, Occupy: 1.0\n",
      "Community size: 2, Dominant label: student_fac, Count: 2, Occupy: 1.0\n",
      "Community size: 2, Dominant label: student_fac, Count: 2, Occupy: 1.0\n",
      "Community size: 2, Dominant label: student_fac, Count: 2, Occupy: 1.0\n",
      "Community size: 2, Dominant label: student_fac, Count: 2, Occupy: 1.0\n",
      "Community size: 2, Dominant label: student_fac, Count: 1, Occupy: 0.5\n",
      "Community size: 2, Dominant label: student_fac, Count: 2, Occupy: 1.0\n",
      "Community size: 2, Dominant label: student_fac, Count: 2, Occupy: 1.0\n",
      "Community size: 2, Dominant label: student_fac, Count: 2, Occupy: 1.0\n",
      "Community size: 2, Dominant label: student_fac, Count: 1, Occupy: 0.5\n",
      "Community size: 2, Dominant label: student_fac, Count: 2, Occupy: 1.0\n",
      "Community size: 2, Dominant label: gender, Count: 2, Occupy: 1.0\n",
      "Community size: 2, Dominant label: student_fac, Count: 1, Occupy: 0.5\n",
      "Community size: 2, Dominant label: student_fac, Count: 2, Occupy: 1.0\n",
      "Community size: 2, Dominant label: student_fac, Count: 2, Occupy: 1.0\n",
      "Community size: 2, Dominant label: student_fac, Count: 2, Occupy: 1.0\n",
      "Community size: 2, Dominant label: student_fac, Count: 2, Occupy: 1.0\n",
      "Community size: 2, Dominant label: student_fac, Count: 2, Occupy: 1.0\n",
      "Community size: 2, Dominant label: student_fac, Count: 2, Occupy: 1.0\n",
      "Community size: 2, Dominant label: student_fac, Count: 1, Occupy: 0.5\n",
      "Community size: 2, Dominant label: gender, Count: 2, Occupy: 1.0\n",
      "Community size: 2, Dominant label: student_fac, Count: 1, Occupy: 0.5\n",
      "Community size: 2, Dominant label: student_fac, Count: 1, Occupy: 0.5\n",
      "Community size: 2, Dominant label: major_index, Count: 2, Occupy: 1.0\n",
      "Community size: 2, Dominant label: student_fac, Count: 2, Occupy: 1.0\n",
      "Community size: 2, Dominant label: student_fac, Count: 2, Occupy: 1.0\n",
      "Community size: 2, Dominant label: student_fac, Count: 1, Occupy: 0.5\n",
      "Community size: 2, Dominant label: student_fac, Count: 2, Occupy: 1.0\n",
      "Community size: 2, Dominant label: student_fac, Count: 1, Occupy: 0.5\n",
      "Community size: 2, Dominant label: student_fac, Count: 2, Occupy: 1.0\n",
      "Community size: 2, Dominant label: student_fac, Count: 2, Occupy: 1.0\n",
      "Community size: 2, Dominant label: student_fac, Count: 2, Occupy: 1.0\n",
      "Community size: 2, Dominant label: student_fac, Count: 2, Occupy: 1.0\n",
      "Community size: 2, Dominant label: student_fac, Count: 2, Occupy: 1.0\n",
      "Community size: 2, Dominant label: student_fac, Count: 2, Occupy: 1.0\n",
      "Community size: 2, Dominant label: student_fac, Count: 2, Occupy: 1.0\n",
      "Community size: 2, Dominant label: second_major, Count: 2, Occupy: 1.0\n",
      "Community size: 2, Dominant label: student_fac, Count: 2, Occupy: 1.0\n",
      "Community size: 2, Dominant label: student_fac, Count: 2, Occupy: 1.0\n",
      "Community size: 2, Dominant label: student_fac, Count: 2, Occupy: 1.0\n",
      "Community size: 2, Dominant label: student_fac, Count: 2, Occupy: 1.0\n",
      "Community size: 2, Dominant label: student_fac, Count: 2, Occupy: 1.0\n",
      "Community size: 2, Dominant label: student_fac, Count: 1, Occupy: 0.5\n",
      "Community size: 2, Dominant label: student_fac, Count: 2, Occupy: 1.0\n",
      "Community size: 2, Dominant label: student_fac, Count: 2, Occupy: 1.0\n",
      "Community size: 2, Dominant label: student_fac, Count: 2, Occupy: 1.0\n"
     ]
    }
   ],
   "source": [
    "harvard_asyn_lpa = sorted(nx.community.asyn_lpa_communities(havard, seed=123), key=lambda x: len(x), reverse=True)\n",
    "find_the_dominant_label(havard, harvard_asyn_lpa, labels)"
   ]
  },
  {
   "cell_type": "code",
   "execution_count": 51,
   "metadata": {},
   "outputs": [
    {
     "name": "stdout",
     "output_type": "stream",
     "text": [
      "Community size: 25396, Dominant label: student_fac, Count: 20204, Occupy: 0.7955583556465585\n",
      "Community size: 4317, Dominant label: student_fac, Count: 4305, Occupy: 0.9972202918693537\n",
      "Community size: 3, Dominant label: student_fac, Count: 1, Occupy: 0.3333333333333333\n",
      "Community size: 3, Dominant label: student_fac, Count: 3, Occupy: 1.0\n",
      "Community size: 2, Dominant label: student_fac, Count: 2, Occupy: 1.0\n",
      "Community size: 2, Dominant label: student_fac, Count: 2, Occupy: 1.0\n",
      "Community size: 2, Dominant label: student_fac, Count: 2, Occupy: 1.0\n",
      "Community size: 2, Dominant label: student_fac, Count: 1, Occupy: 0.5\n",
      "Community size: 2, Dominant label: student_fac, Count: 1, Occupy: 0.5\n",
      "Community size: 2, Dominant label: student_fac, Count: 2, Occupy: 1.0\n",
      "Community size: 2, Dominant label: student_fac, Count: 2, Occupy: 1.0\n",
      "Community size: 2, Dominant label: student_fac, Count: 2, Occupy: 1.0\n",
      "Community size: 2, Dominant label: student_fac, Count: 2, Occupy: 1.0\n",
      "Community size: 2, Dominant label: student_fac, Count: 1, Occupy: 0.5\n",
      "Community size: 2, Dominant label: student_fac, Count: 2, Occupy: 1.0\n",
      "Community size: 2, Dominant label: student_fac, Count: 2, Occupy: 1.0\n",
      "Community size: 2, Dominant label: student_fac, Count: 2, Occupy: 1.0\n",
      "Community size: 2, Dominant label: student_fac, Count: 2, Occupy: 1.0\n"
     ]
    }
   ],
   "source": [
    "indiana_asyn_lpa = sorted(nx.community.asyn_lpa_communities(indiana, seed=123), key=lambda x: len(x), reverse=True)\n",
    "find_the_dominant_label(indiana, indiana_asyn_lpa, labels)"
   ]
  }
 ],
 "metadata": {
  "kernelspec": {
   "display_name": ".venv",
   "language": "python",
   "name": "python3"
  },
  "language_info": {
   "codemirror_mode": {
    "name": "ipython",
    "version": 3
   },
   "file_extension": ".py",
   "mimetype": "text/x-python",
   "name": "python",
   "nbconvert_exporter": "python",
   "pygments_lexer": "ipython3",
   "version": "3.12.7"
  }
 },
 "nbformat": 4,
 "nbformat_minor": 2
}
