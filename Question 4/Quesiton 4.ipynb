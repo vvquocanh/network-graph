{
 "cells": [
  {
   "cell_type": "code",
   "execution_count": 1,
   "id": "d267da99-01f7-40f0-a74d-5a5d1ad97730",
   "metadata": {},
   "outputs": [],
   "source": [
    "from abc import ABC\n",
    "from abc import abstractmethod\n",
    "import networkx as nx\n",
    "import numpy as np\n",
    "import progressbar\n",
    "import random\n",
    "import math"
   ]
  },
  {
   "cell_type": "code",
   "execution_count": 2,
   "id": "85cbd0f1-5f67-4a96-a9f0-9f467fddf73e",
   "metadata": {},
   "outputs": [],
   "source": [
    "class LinkPrediction(ABC):\n",
    "    def __init__(self, graph):\n",
    "        self.graph = graph\n",
    "        self.N = len(graph)\n",
    "    \n",
    "    def neighbors(self, v):\n",
    "        neighbors_list = self.graph.neighbors(v)\n",
    "        return list(neighbors_list)\n",
    "\n",
    "    @abstractmethod\n",
    "    def fit(self):\n",
    "        raise NotImplementedError(\"Fit must be implemented\")"
   ]
  },
  {
   "cell_type": "code",
   "execution_count": 3,
   "id": "d3c641aa-9b31-47cd-a9d9-6b9bc04152e9",
   "metadata": {},
   "outputs": [],
   "source": [
    "class CommonNeighbors(LinkPrediction):\n",
    "    def fit(self):\n",
    "        scores = {}\n",
    "        \n",
    "        for u, v in nx.non_edges(self.graph):\n",
    "            u_neighbors = set(self.neighbors(u))\n",
    "            v_neighbors = set(self.neighbors(v))\n",
    "            scores[(u, v)] = len(u_neighbors.intersection(v_neighbors))\n",
    "\n",
    "        return scores"
   ]
  },
  {
   "cell_type": "code",
   "execution_count": 4,
   "id": "a4dfc4da-2495-43ca-9681-aee32d5833e5",
   "metadata": {},
   "outputs": [],
   "source": [
    "class Jaccard(LinkPrediction):\n",
    "    def fit(self):\n",
    "        scores = {}\n",
    "\n",
    "        for u, v in nx.non_edges(self.graph):\n",
    "            u_neighbors = set(self.neighbors(u))\n",
    "            v_neighbors = set(self.neighbors(v))\n",
    "\n",
    "            intersection = len(u_neighbors.intersection(v_neighbors))\n",
    "            union = len(u_neighbors.union(v_neighbors))\n",
    "            \n",
    "            if union > 0:\n",
    "                scores[(u, v)] = intersection / union\n",
    "            else:\n",
    "                scores[(u, v)] = 0.0\n",
    "\n",
    "        return scores"
   ]
  },
  {
   "cell_type": "code",
   "execution_count": 5,
   "id": "fd68d840-65d6-44ac-a677-e3e3fce9888e",
   "metadata": {},
   "outputs": [],
   "source": [
    "class AdamicAdar(LinkPrediction):\n",
    "    def fit(self):\n",
    "        scores = {}\n",
    "\n",
    "        for u, v in nx.non_edges(self.graph):\n",
    "            u_neighbors = set(self.neighbors(u))\n",
    "            v_neighbors = set(self.neighbors(v))\n",
    "            common_neighbors = u_neighbors.intersection(v_neighbors)\n",
    "\n",
    "            score = 0.0\n",
    "            for w in common_neighbors:\n",
    "                degree_w = len(list(self.neighbors(w)))\n",
    "                if degree_w > 1:\n",
    "                    score += 1 / math.log(degree_w)\n",
    "\n",
    "            scores[(u, v)] = score\n",
    "\n",
    "        return scores"
   ]
  },
  {
   "cell_type": "code",
   "execution_count": 6,
   "id": "bddcddc5-3635-4c8a-8235-a8937a8cc106",
   "metadata": {},
   "outputs": [],
   "source": [
    "def remove_random_edges(graph, fraction):\n",
    "    edges = list(graph.edges())\n",
    "    removed_edges = set(random.sample(edges, int(fraction * len(edges))))\n",
    "    temp_graph = graph.copy()\n",
    "    temp_graph.remove_edges_from(removed_edges)\n",
    "    return temp_graph, removed_edges\n",
    "\n",
    "def get_link_scores(predictor):\n",
    "    scores = predictor.fit()\n",
    "    return sorted(scores.items(), key=lambda x: x[1], reverse=True)\n",
    "\n",
    "def evaluate(scores, removed_edges, k):\n",
    "    top_pairs = set(pair for pair, _ in scores[:k])\n",
    "    correct = len(removed_edges.intersection(top_pairs))\n",
    "    precision = correct / k\n",
    "    recall = correct / len(removed_edges)\n",
    "\n",
    "    return precision, recall"
   ]
  },
  {
   "cell_type": "code",
   "execution_count": 7,
   "id": "66f4cd33-e752-49a9-aa1b-484768453b87",
   "metadata": {},
   "outputs": [],
   "source": [
    "fractions = [0.05, 0.1, 0.15, 0.2]\n",
    "ks = [50, 100, 200, 300, 400]"
   ]
  },
  {
   "cell_type": "code",
   "execution_count": 8,
   "id": "a216bd32-9af8-4994-9764-0e4fe3b4673c",
   "metadata": {},
   "outputs": [],
   "source": [
    "def experiment(predictor, fraction, removed_edges): \n",
    "    scores = get_link_scores(predictor)\n",
    "    for k in ks:\n",
    "        precision, recall = evaluate(scores, removed_edges, k)\n",
    "\n",
    "        print(f\"Results for predictor {type(predictor).__name__} with fraction = {fraction} and k = {k}: precision = {precision}, recall {recall}\")\n",
    "\n",
    "def common_neighbors_experiment(graph):\n",
    "    for fraction in fractions:\n",
    "        reduced_graph, removed_edges = remove_random_edges(graph, fraction)\n",
    "        predictor = CommonNeighbors(reduced_graph)\n",
    "        experiment(predictor, fraction, removed_edges)\n",
    "\n",
    "def jaccard_experiment(graph):\n",
    "    for fraction in fractions:\n",
    "        reduced_graph, removed_edges = remove_random_edges(graph, fraction)\n",
    "        predictor = Jaccard(reduced_graph)\n",
    "        experiment(predictor, fraction, removed_edges)\n",
    "\n",
    "def adamic_ada_experiment(graph):\n",
    "    for fraction in fractions:\n",
    "        reduced_graph, removed_edges = remove_random_edges(graph, fraction)\n",
    "        predictor = AdamicAdar(reduced_graph)\n",
    "        experiment(predictor, fraction, removed_edges)"
   ]
  },
  {
   "cell_type": "code",
   "execution_count": 9,
   "id": "8bd815cc-72a8-476b-9a8d-294ef4c9e395",
   "metadata": {},
   "outputs": [],
   "source": [
    "# Read data\n",
    "data_path = \"../Data/fb100\""
   ]
  },
  {
   "cell_type": "code",
   "execution_count": 10,
   "id": "e9cf339b",
   "metadata": {},
   "outputs": [],
   "source": [
    "princeton = nx.read_gml(f\"{data_path}/Princeton12.gml\")"
   ]
  },
  {
   "cell_type": "code",
   "execution_count": 11,
   "id": "0122a67f-bac9-4ab5-9e5f-72608ef6923d",
   "metadata": {},
   "outputs": [
    {
     "name": "stdout",
     "output_type": "stream",
     "text": [
      "Results for predictor CommonNeighbors with fraction = 0.05 and k = 50: precision = 0.38, recall 0.0012955134324287468\n",
      "Results for predictor CommonNeighbors with fraction = 0.05 and k = 100: precision = 0.37, recall 0.0025228419473612438\n",
      "Results for predictor CommonNeighbors with fraction = 0.05 and k = 200: precision = 0.28, recall 0.0038183553797899905\n",
      "Results for predictor CommonNeighbors with fraction = 0.05 and k = 300: precision = 0.24666666666666667, recall 0.0050456838947224875\n",
      "Results for predictor CommonNeighbors with fraction = 0.05 and k = 400: precision = 0.2325, recall 0.006341197327151234\n",
      "Results for predictor CommonNeighbors with fraction = 0.1 and k = 50: precision = 0.44, recall 0.0007500340924587481\n",
      "Results for predictor CommonNeighbors with fraction = 0.1 and k = 100: precision = 0.35, recall 0.0011932360561843721\n",
      "Results for predictor CommonNeighbors with fraction = 0.1 and k = 200: precision = 0.29, recall 0.0019773626073912452\n",
      "Results for predictor CommonNeighbors with fraction = 0.1 and k = 300: precision = 0.2966666666666667, recall 0.0030342288285831174\n",
      "Results for predictor CommonNeighbors with fraction = 0.1 and k = 400: precision = 0.305, recall 0.00415927996727124\n",
      "Results for predictor CommonNeighbors with fraction = 0.15 and k = 50: precision = 0.36, recall 0.000409109504977499\n",
      "Results for predictor CommonNeighbors with fraction = 0.15 and k = 100: precision = 0.34, recall 0.0007727623982908314\n",
      "Results for predictor CommonNeighbors with fraction = 0.15 and k = 200: precision = 0.39, recall 0.0017728078549024955\n",
      "Results for predictor CommonNeighbors with fraction = 0.15 and k = 300: precision = 0.4033333333333333, recall 0.0027501250056820763\n",
      "Results for predictor CommonNeighbors with fraction = 0.15 and k = 400: precision = 0.3825, recall 0.0034774307923087413\n",
      "Results for predictor CommonNeighbors with fraction = 0.2 and k = 50: precision = 0.3, recall 0.0002556934406109369\n",
      "Results for predictor CommonNeighbors with fraction = 0.2 and k = 100: precision = 0.36, recall 0.0006136642574662485\n",
      "Results for predictor CommonNeighbors with fraction = 0.2 and k = 200: precision = 0.375, recall 0.0012784672030546843\n",
      "Results for predictor CommonNeighbors with fraction = 0.2 and k = 300: precision = 0.37666666666666665, recall 0.0019262239192690577\n",
      "Results for predictor CommonNeighbors with fraction = 0.2 and k = 400: precision = 0.39, recall 0.0026592117823537433\n"
     ]
    }
   ],
   "source": [
    "common_neighbors_experiment(princeton)\n"
   ]
  },
  {
   "cell_type": "code",
   "execution_count": 12,
   "id": "664e7659-2b10-49fa-9871-2508018e235d",
   "metadata": {},
   "outputs": [
    {
     "name": "stdout",
     "output_type": "stream",
     "text": [
      "Results for predictor Jaccard with fraction = 0.05 and k = 50: precision = 0.1, recall 0.00034092458748124913\n",
      "Results for predictor Jaccard with fraction = 0.05 and k = 100: precision = 0.14, recall 0.0009545888449474976\n",
      "Results for predictor Jaccard with fraction = 0.05 and k = 200: precision = 0.105, recall 0.0014318832674212465\n",
      "Results for predictor Jaccard with fraction = 0.05 and k = 300: precision = 0.12, recall 0.002454657029864994\n",
      "Results for predictor Jaccard with fraction = 0.05 and k = 400: precision = 0.145, recall 0.0039547252147824905\n",
      "Results for predictor Jaccard with fraction = 0.1 and k = 50: precision = 0.1, recall 0.00017046229374062457\n",
      "Results for predictor Jaccard with fraction = 0.1 and k = 100: precision = 0.12, recall 0.000409109504977499\n",
      "Results for predictor Jaccard with fraction = 0.1 and k = 200: precision = 0.135, recall 0.0009204963861993728\n",
      "Results for predictor Jaccard with fraction = 0.1 and k = 300: precision = 0.12, recall 0.001227328514932497\n",
      "Results for predictor Jaccard with fraction = 0.1 and k = 400: precision = 0.1625, recall 0.0022160098186281194\n",
      "Results for predictor Jaccard with fraction = 0.15 and k = 50: precision = 0.04, recall 4.5456611664166555e-05\n",
      "Results for predictor Jaccard with fraction = 0.15 and k = 100: precision = 0.13, recall 0.00029546797581708257\n",
      "Results for predictor Jaccard with fraction = 0.15 and k = 200: precision = 0.165, recall 0.0007500340924587481\n",
      "Results for predictor Jaccard with fraction = 0.15 and k = 300: precision = 0.21333333333333335, recall 0.0014546115732533298\n",
      "Results for predictor Jaccard with fraction = 0.15 and k = 400: precision = 0.245, recall 0.002227373971544161\n",
      "Results for predictor Jaccard with fraction = 0.2 and k = 50: precision = 0.0, recall 0.0\n",
      "Results for predictor Jaccard with fraction = 0.2 and k = 100: precision = 0.17, recall 0.00028978589935906176\n",
      "Results for predictor Jaccard with fraction = 0.2 and k = 200: precision = 0.13, recall 0.0004432019637256239\n",
      "Results for predictor Jaccard with fraction = 0.2 and k = 300: precision = 0.19333333333333333, recall 0.0009886813036956226\n",
      "Results for predictor Jaccard with fraction = 0.2 and k = 400: precision = 0.215, recall 0.0014659757261693714\n"
     ]
    }
   ],
   "source": [
    "jaccard_experiment(princeton)"
   ]
  },
  {
   "cell_type": "code",
   "execution_count": 13,
   "id": "4929a98a",
   "metadata": {},
   "outputs": [
    {
     "name": "stdout",
     "output_type": "stream",
     "text": [
      "Results for predictor AdamicAdar with fraction = 0.05 and k = 50: precision = 0.26, recall 0.0008864039274512478\n",
      "Results for predictor AdamicAdar with fraction = 0.05 and k = 100: precision = 0.28, recall 0.0019091776898949953\n",
      "Results for predictor AdamicAdar with fraction = 0.05 and k = 200: precision = 0.25, recall 0.0034092458748124915\n",
      "Results for predictor AdamicAdar with fraction = 0.05 and k = 300: precision = 0.24, recall 0.004909314059729988\n",
      "Results for predictor AdamicAdar with fraction = 0.05 and k = 400: precision = 0.24, recall 0.006545752079639984\n",
      "Results for predictor AdamicAdar with fraction = 0.1 and k = 50: precision = 0.34, recall 0.0005795717987181235\n",
      "Results for predictor AdamicAdar with fraction = 0.1 and k = 100: precision = 0.35, recall 0.0011932360561843721\n",
      "Results for predictor AdamicAdar with fraction = 0.1 and k = 200: precision = 0.34, recall 0.002318287194872494\n",
      "Results for predictor AdamicAdar with fraction = 0.1 and k = 300: precision = 0.33, recall 0.0033751534160643666\n",
      "Results for predictor AdamicAdar with fraction = 0.1 and k = 400: precision = 0.3225, recall 0.004397927178508114\n",
      "Results for predictor AdamicAdar with fraction = 0.15 and k = 50: precision = 0.34, recall 0.0003863811991454157\n",
      "Results for predictor AdamicAdar with fraction = 0.15 and k = 100: precision = 0.39, recall 0.0008864039274512478\n",
      "Results for predictor AdamicAdar with fraction = 0.15 and k = 200: precision = 0.375, recall 0.0017046229374062458\n",
      "Results for predictor AdamicAdar with fraction = 0.15 and k = 300: precision = 0.37, recall 0.0025228419473612438\n",
      "Results for predictor AdamicAdar with fraction = 0.15 and k = 400: precision = 0.38, recall 0.003454702486476658\n",
      "Results for predictor AdamicAdar with fraction = 0.2 and k = 50: precision = 0.46, recall 0.0003920632756034365\n",
      "Results for predictor AdamicAdar with fraction = 0.2 and k = 100: precision = 0.46, recall 0.000784126551206873\n",
      "Results for predictor AdamicAdar with fraction = 0.2 and k = 200: precision = 0.425, recall 0.001448929496795309\n",
      "Results for predictor AdamicAdar with fraction = 0.2 and k = 300: precision = 0.43333333333333335, recall 0.0022160098186281194\n",
      "Results for predictor AdamicAdar with fraction = 0.2 and k = 400: precision = 0.4125, recall 0.0028126278467203057\n"
     ]
    }
   ],
   "source": [
    "adamic_ada_experiment(princeton)"
   ]
  },
  {
   "cell_type": "code",
   "execution_count": 14,
   "id": "4b3804b3",
   "metadata": {},
   "outputs": [],
   "source": [
    "caltech = nx.read_gml(f\"{data_path}/Caltech36.gml\")"
   ]
  },
  {
   "cell_type": "code",
   "execution_count": 15,
   "id": "526e4c71",
   "metadata": {},
   "outputs": [
    {
     "name": "stdout",
     "output_type": "stream",
     "text": [
      "Results for predictor CommonNeighbors with fraction = 0.05 and k = 50: precision = 0.2, recall 0.01201923076923077\n",
      "Results for predictor CommonNeighbors with fraction = 0.05 and k = 100: precision = 0.2, recall 0.02403846153846154\n",
      "Results for predictor CommonNeighbors with fraction = 0.05 and k = 200: precision = 0.115, recall 0.027644230769230768\n",
      "Results for predictor CommonNeighbors with fraction = 0.05 and k = 300: precision = 0.10666666666666667, recall 0.038461538461538464\n",
      "Results for predictor CommonNeighbors with fraction = 0.05 and k = 400: precision = 0.0975, recall 0.046875\n",
      "Results for predictor CommonNeighbors with fraction = 0.1 and k = 50: precision = 0.3, recall 0.009009009009009009\n",
      "Results for predictor CommonNeighbors with fraction = 0.1 and k = 100: precision = 0.26, recall 0.015615615615615615\n",
      "Results for predictor CommonNeighbors with fraction = 0.1 and k = 200: precision = 0.255, recall 0.03063063063063063\n",
      "Results for predictor CommonNeighbors with fraction = 0.1 and k = 300: precision = 0.21333333333333335, recall 0.03843843843843844\n",
      "Results for predictor CommonNeighbors with fraction = 0.1 and k = 400: precision = 0.2025, recall 0.04864864864864865\n",
      "Results for predictor CommonNeighbors with fraction = 0.15 and k = 50: precision = 0.34, recall 0.0068054443554843875\n",
      "Results for predictor CommonNeighbors with fraction = 0.15 and k = 100: precision = 0.27, recall 0.010808646917534028\n",
      "Results for predictor CommonNeighbors with fraction = 0.15 and k = 200: precision = 0.245, recall 0.019615692554043235\n",
      "Results for predictor CommonNeighbors with fraction = 0.15 and k = 300: precision = 0.25333333333333335, recall 0.03042433947157726\n",
      "Results for predictor CommonNeighbors with fraction = 0.15 and k = 400: precision = 0.2375, recall 0.038030424339471576\n",
      "Results for predictor CommonNeighbors with fraction = 0.2 and k = 50: precision = 0.3, recall 0.004503152206544582\n",
      "Results for predictor CommonNeighbors with fraction = 0.2 and k = 100: precision = 0.29, recall 0.00870609426598619\n",
      "Results for predictor CommonNeighbors with fraction = 0.2 and k = 200: precision = 0.3, recall 0.018012608826178327\n",
      "Results for predictor CommonNeighbors with fraction = 0.2 and k = 300: precision = 0.2966666666666667, recall 0.026718703092164516\n",
      "Results for predictor CommonNeighbors with fraction = 0.2 and k = 400: precision = 0.2925, recall 0.035124587211047734\n"
     ]
    }
   ],
   "source": [
    "common_neighbors_experiment(caltech)"
   ]
  },
  {
   "cell_type": "code",
   "execution_count": 16,
   "id": "d21624fa",
   "metadata": {},
   "outputs": [
    {
     "name": "stdout",
     "output_type": "stream",
     "text": [
      "Results for predictor Jaccard with fraction = 0.05 and k = 50: precision = 0.16, recall 0.009615384615384616\n",
      "Results for predictor Jaccard with fraction = 0.05 and k = 100: precision = 0.15, recall 0.018028846153846152\n",
      "Results for predictor Jaccard with fraction = 0.05 and k = 200: precision = 0.105, recall 0.025240384615384616\n",
      "Results for predictor Jaccard with fraction = 0.05 and k = 300: precision = 0.10333333333333333, recall 0.037259615384615384\n",
      "Results for predictor Jaccard with fraction = 0.05 and k = 400: precision = 0.1025, recall 0.04927884615384615\n",
      "Results for predictor Jaccard with fraction = 0.1 and k = 50: precision = 0.18, recall 0.005405405405405406\n",
      "Results for predictor Jaccard with fraction = 0.1 and k = 100: precision = 0.23, recall 0.013813813813813814\n",
      "Results for predictor Jaccard with fraction = 0.1 and k = 200: precision = 0.17, recall 0.02042042042042042\n",
      "Results for predictor Jaccard with fraction = 0.1 and k = 300: precision = 0.17, recall 0.03063063063063063\n",
      "Results for predictor Jaccard with fraction = 0.1 and k = 400: precision = 0.1675, recall 0.04024024024024024\n",
      "Results for predictor Jaccard with fraction = 0.15 and k = 50: precision = 0.12, recall 0.0024019215372297837\n",
      "Results for predictor Jaccard with fraction = 0.15 and k = 100: precision = 0.22, recall 0.008807045636509208\n",
      "Results for predictor Jaccard with fraction = 0.15 and k = 200: precision = 0.195, recall 0.015612489991993595\n",
      "Results for predictor Jaccard with fraction = 0.15 and k = 300: precision = 0.20333333333333334, recall 0.0244195356285028\n",
      "Results for predictor Jaccard with fraction = 0.15 and k = 400: precision = 0.21, recall 0.03362690152121697\n",
      "Results for predictor Jaccard with fraction = 0.2 and k = 50: precision = 0.24, recall 0.003602521765235665\n",
      "Results for predictor Jaccard with fraction = 0.2 and k = 100: precision = 0.32, recall 0.009606724707295107\n",
      "Results for predictor Jaccard with fraction = 0.2 and k = 200: precision = 0.27, recall 0.01621134794356049\n",
      "Results for predictor Jaccard with fraction = 0.2 and k = 300: precision = 0.26666666666666666, recall 0.024016811768237768\n",
      "Results for predictor Jaccard with fraction = 0.2 and k = 400: precision = 0.2575, recall 0.030921645151606125\n"
     ]
    }
   ],
   "source": [
    "jaccard_experiment(caltech)"
   ]
  },
  {
   "cell_type": "code",
   "execution_count": 17,
   "id": "5a143b44",
   "metadata": {},
   "outputs": [
    {
     "name": "stdout",
     "output_type": "stream",
     "text": [
      "Results for predictor AdamicAdar with fraction = 0.05 and k = 50: precision = 0.28, recall 0.016826923076923076\n",
      "Results for predictor AdamicAdar with fraction = 0.05 and k = 100: precision = 0.26, recall 0.03125\n",
      "Results for predictor AdamicAdar with fraction = 0.05 and k = 200: precision = 0.19, recall 0.04567307692307692\n",
      "Results for predictor AdamicAdar with fraction = 0.05 and k = 300: precision = 0.15333333333333332, recall 0.055288461538461536\n",
      "Results for predictor AdamicAdar with fraction = 0.05 and k = 400: precision = 0.135, recall 0.06490384615384616\n",
      "Results for predictor AdamicAdar with fraction = 0.1 and k = 50: precision = 0.38, recall 0.011411411411411412\n",
      "Results for predictor AdamicAdar with fraction = 0.1 and k = 100: precision = 0.33, recall 0.01981981981981982\n",
      "Results for predictor AdamicAdar with fraction = 0.1 and k = 200: precision = 0.26, recall 0.03123123123123123\n",
      "Results for predictor AdamicAdar with fraction = 0.1 and k = 300: precision = 0.25666666666666665, recall 0.04624624624624624\n",
      "Results for predictor AdamicAdar with fraction = 0.1 and k = 400: precision = 0.2425, recall 0.058258258258258255\n",
      "Results for predictor AdamicAdar with fraction = 0.15 and k = 50: precision = 0.32, recall 0.006405124099279423\n",
      "Results for predictor AdamicAdar with fraction = 0.15 and k = 100: precision = 0.31, recall 0.012409927942353884\n",
      "Results for predictor AdamicAdar with fraction = 0.15 and k = 200: precision = 0.285, recall 0.022818254603682947\n",
      "Results for predictor AdamicAdar with fraction = 0.15 and k = 300: precision = 0.2733333333333333, recall 0.03282626100880705\n",
      "Results for predictor AdamicAdar with fraction = 0.15 and k = 400: precision = 0.265, recall 0.04243394715772618\n",
      "Results for predictor AdamicAdar with fraction = 0.2 and k = 50: precision = 0.38, recall 0.005703992794956469\n",
      "Results for predictor AdamicAdar with fraction = 0.2 and k = 100: precision = 0.35, recall 0.010507355148604023\n",
      "Results for predictor AdamicAdar with fraction = 0.2 and k = 200: precision = 0.35, recall 0.021014710297208045\n",
      "Results for predictor AdamicAdar with fraction = 0.2 and k = 300: precision = 0.33, recall 0.029720804563194234\n",
      "Results for predictor AdamicAdar with fraction = 0.2 and k = 400: precision = 0.295, recall 0.035424797358150704\n"
     ]
    }
   ],
   "source": [
    "adamic_ada_experiment(caltech)"
   ]
  }
 ],
 "metadata": {
  "kernelspec": {
   "display_name": ".venv",
   "language": "python",
   "name": "python3"
  },
  "language_info": {
   "codemirror_mode": {
    "name": "ipython",
    "version": 3
   },
   "file_extension": ".py",
   "mimetype": "text/x-python",
   "name": "python",
   "nbconvert_exporter": "python",
   "pygments_lexer": "ipython3",
   "version": "3.12.7"
  }
 },
 "nbformat": 4,
 "nbformat_minor": 5
}
