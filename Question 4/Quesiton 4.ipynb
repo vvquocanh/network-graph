{
 "cells": [
  {
   "cell_type": "code",
   "execution_count": 18,
   "id": "d267da99-01f7-40f0-a74d-5a5d1ad97730",
   "metadata": {},
   "outputs": [],
   "source": [
    "from abc import ABC\n",
    "from abc import abstractmethod\n",
    "import networkx as nx\n",
    "import numpy as np\n",
    "import progressbar\n",
    "import random"
   ]
  },
  {
   "cell_type": "code",
   "execution_count": 5,
   "id": "85cbd0f1-5f67-4a96-a9f0-9f467fddf73e",
   "metadata": {},
   "outputs": [],
   "source": [
    "class LinkPrediction(ABC):\n",
    "    def __init__(self, graph):\n",
    "        self.graph = graph\n",
    "        self.N = len(graph)\n",
    "    \n",
    "    def neighbors(self, v):\n",
    "        neighbors_list = self.graph.neighbors(v)\n",
    "        return list(neighbors_list)\n",
    "\n",
    "    @abstractmethod\n",
    "    def fit(self):\n",
    "        raise NotImplementedError(\"Fit must be implemented\")"
   ]
  },
  {
   "cell_type": "code",
   "execution_count": 22,
   "id": "d3c641aa-9b31-47cd-a9d9-6b9bc04152e9",
   "metadata": {},
   "outputs": [],
   "source": [
    "class CommonNeighbors(LinkPrediction):\n",
    "    def __init__(self, graph):\n",
    "        super(CommonNeighbors, self).__init__(graph)\n",
    "\n",
    "    def fit(self):\n",
    "        scores = {}\n",
    "        nodes = list(self.graph.nodes())\n",
    "\n",
    "        for u in nodes:\n",
    "            u_neighbors = set(self.neighbors(u))\n",
    "            for v in nodes:\n",
    "                if u >= v or self.graph.has_edge(u, v):\n",
    "                    continue\n",
    "                v_neighbors = set(self.neighbors(v))\n",
    "                scores[(u, v)] = len(u_neighbors.intersection(v_neighbors))\n",
    "\n",
    "        return scores"
   ]
  },
  {
   "cell_type": "code",
   "execution_count": 24,
   "id": "bddcddc5-3635-4c8a-8235-a8937a8cc106",
   "metadata": {},
   "outputs": [],
   "source": [
    "def remove_random_edges(graph, fraction):\n",
    "    edges = list(graph.edges())\n",
    "    removed_edges = set(random.sample(edges, int(fraction * len(edges))))\n",
    "    return graph.remove_edges_from(removed_edges), removed_edges\n",
    "\n",
    "def get_link_scores(predictor):\n",
    "    scores = predictor.fit()\n",
    "    return sorted(scores.items(), key=lambda x: x[1], reverse=True)\n",
    "\n",
    "def evaluate(scores, removed_edges, k):\n",
    "    top_pairs = set(pair for pair, _ in scores[:k])\n",
    "    correct = len(removed_edges.intersection(top_pairs))\n",
    "    precision = correct / k\n",
    "    recall = correct / len(removed_edges)\n",
    "\n",
    "    return precision, recall"
   ]
  },
  {
   "cell_type": "code",
   "execution_count": 15,
   "id": "c9f50205-9420-4f89-afeb-7226bd06aa4d",
   "metadata": {},
   "outputs": [],
   "source": [
    "# Read data\n",
    "data_path = \"../Data/fb100\"\n",
    "\n",
    "caltech = nx.read_gml(f\"{data_path}/Caltech36.gml\")\n",
    "mit = nx.read_gml(f\"{data_path}/MIT8.gml\")\n",
    "john_hopkins = nx.read_gml(f\"{data_path}/Johns Hopkins55.gml\")"
   ]
  },
  {
   "cell_type": "code",
   "execution_count": 16,
   "id": "66f4cd33-e752-49a9-aa1b-484768453b87",
   "metadata": {},
   "outputs": [],
   "source": [
    "fractions = [0.05, 0.1, 0.15, 0.2]\n",
    "ks = [50, 100, 200, 300, 400]"
   ]
  },
  {
   "cell_type": "code",
   "execution_count": 25,
   "id": "a216bd32-9af8-4994-9764-0e4fe3b4673c",
   "metadata": {},
   "outputs": [
    {
     "name": "stdout",
     "output_type": "stream",
     "text": [
      "fraction: 0.05\n",
      "k: 50\n",
      "precision: 0.16\n",
      "recall: 0.011204481792717087\n",
      "k: 100\n",
      "precision: 0.09\n",
      "recall: 0.01327433628318584\n",
      "k: 200\n",
      "precision: 0.115\n",
      "recall: 0.03571428571428571\n",
      "k: 300\n",
      "precision: 0.07333333333333333\n",
      "recall: 0.03594771241830065\n",
      "k: 400\n",
      "precision: 0.065\n",
      "recall: 0.04475043029259897\n",
      "\n",
      "fraction: 0.1\n",
      "k: 50\n",
      "precision: 0.16\n",
      "recall: 0.007239819004524887\n",
      "k: 100\n",
      "precision: 0.11\n",
      "recall: 0.011066398390342052\n",
      "k: 200\n",
      "precision: 0.075\n",
      "recall: 0.01675977653631285\n",
      "k: 300\n",
      "precision: 0.09333333333333334\n",
      "recall: 0.034782608695652174\n",
      "k: 400\n",
      "precision: 0.0525\n",
      "recall: 0.028965517241379312\n",
      "\n",
      "fraction: 0.15\n",
      "k: 50\n",
      "precision: 0.08\n",
      "recall: 0.0040858018386108275\n",
      "k: 100\n",
      "precision: 0.04\n",
      "recall: 0.004807692307692308\n",
      "k: 200\n",
      "precision: 0.025\n",
      "recall: 0.007072135785007072\n",
      "k: 300\n",
      "precision: 0.023333333333333334\n",
      "recall: 0.011647254575707155\n",
      "k: 400\n",
      "precision: 0.0275\n",
      "recall: 0.021526418786692758\n",
      "\n",
      "fraction: 0.2\n",
      "k: 50\n",
      "precision: 0.02\n",
      "recall: 0.0017271157167530224\n",
      "k: 100\n",
      "precision: 0.02\n",
      "recall: 0.004310344827586207\n",
      "k: 200\n",
      "precision: 0.015\n",
      "recall: 0.008086253369272238\n",
      "k: 300\n",
      "precision: 0.006666666666666667\n",
      "recall: 0.006734006734006734\n",
      "k: 400\n",
      "precision: 0.0\n",
      "recall: 0.0\n",
      "\n"
     ]
    }
   ],
   "source": [
    "for fraction in fractions:\n",
    "    print(f\"fraction: {fraction}\")\n",
    "    for k in ks:\n",
    "        reduced_graph, removed_edges = remove_random_edges(caltech, fraction)\n",
    "        predictor = CommonNeighbors(caltech)\n",
    "        scores = get_link_scores(predictor)\n",
    "        precision, recall = evaluate(scores, removed_edges, k)\n",
    "\n",
    "        print(f\"k: {k}\")\n",
    "        print(f\"precision: {precision}\")\n",
    "        print(f\"recall: {recall}\")\n",
    "    print(\"\")"
   ]
  },
  {
   "cell_type": "code",
   "execution_count": null,
   "id": "904f4480-1b02-4295-91f2-8409819ef2de",
   "metadata": {},
   "outputs": [],
   "source": []
  }
 ],
 "metadata": {
  "kernelspec": {
   "display_name": "Python 3 (ipykernel)",
   "language": "python",
   "name": "python3"
  },
  "language_info": {
   "codemirror_mode": {
    "name": "ipython",
    "version": 3
   },
   "file_extension": ".py",
   "mimetype": "text/x-python",
   "name": "python",
   "nbconvert_exporter": "python",
   "pygments_lexer": "ipython3",
   "version": "3.12.7"
  }
 },
 "nbformat": 4,
 "nbformat_minor": 5
}
